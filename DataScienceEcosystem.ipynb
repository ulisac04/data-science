{
 "cells": [
  {
   "cell_type": "markdown",
   "id": "92d3035b-15e8-4fc3-820d-94ef0b9d1143",
   "metadata": {},
   "source": [
    "# Data Science Tools and Ecosystem"
   ]
  },
  {
   "cell_type": "markdown",
   "id": "72cd3e95-5c27-4bec-bb05-871c2d1ba9d1",
   "metadata": {},
   "source": [
    "In this notebook, Data Science Tools and Ecosystem are summarized."
   ]
  },
  {
   "cell_type": "markdown",
   "id": "f7bbe0db-af6a-4782-9a1f-cbf91b193492",
   "metadata": {},
   "source": [
    "<b>Objectives:</b>\n",
    "- List languages used in data science.entList tools used in data science\n",
    "- Some examples of arithmetic operationsmento 3\r\n"
   ]
  },
  {
   "cell_type": "markdown",
   "id": "a0c30722-69bd-41a8-a25a-013b585dfc46",
   "metadata": {},
   "source": [
    "Some of the popular languages that Data Scientists use are:\n",
    "1. Python\n",
    "2. R\n",
    "3. SQL"
   ]
  },
  {
   "cell_type": "markdown",
   "id": "51c6a2e8-bf8f-4b24-b0d0-5092cb2dea19",
   "metadata": {},
   "source": [
    "Some of the commonly used libraries used by Data Scientists include:\r",
    "1. pyplot\n",
    "2. numpy\n",
    "3. pandas\n",
    "4. ggplot\n"
   ]
  },
  {
   "cell_type": "markdown",
   "id": "d07f1efe-e7e3-4604-8f55-d164419b1d7a",
   "metadata": {},
   "source": [
    "# Data Science Tools\r\n",
    "\r\n",
    " Data Science Tool    |\r\n",
    "|---------------------|\r\n",
    "|      RStudio        |\r\n",
    "|       Spyder        |\r\n",
    "| Jupyter Notebook    |\r\n"
   ]
  },
  {
   "cell_type": "markdown",
   "id": "d039744b-5faa-4125-b531-ee2dc805f304",
   "metadata": {},
   "source": [
    "### Below are a few examples of evaluating arithmetic expressions in Python.\r\n"
   ]
  },
  {
   "cell_type": "code",
   "execution_count": 4,
   "id": "1717b589-6ef5-4a6d-af48-288050ed550b",
   "metadata": {},
   "outputs": [
    {
     "data": {
      "text/plain": [
       "17"
      ]
     },
     "execution_count": 4,
     "metadata": {},
     "output_type": "execute_result"
    }
   ],
   "source": [
    "#This a simple arithmetic expression to mutiply then add integers\n",
    "(3*4)+5"
   ]
  },
  {
   "cell_type": "code",
   "execution_count": 5,
   "id": "74cad311-4c7a-4031-80cb-d35a854232e4",
   "metadata": {},
   "outputs": [
    {
     "data": {
      "text/plain": [
       "3.3333333333333335"
      ]
     },
     "execution_count": 5,
     "metadata": {},
     "output_type": "execute_result"
    }
   ],
   "source": [
    "minutes = 200\n",
    "\n",
    "#this will convert 200 minutes to hours by diving by 60\n",
    "hours = minutes / 60\n",
    "hours"
   ]
  },
  {
   "cell_type": "markdown",
   "id": "ef511922-c3f0-4db6-b1a0-89f859055607",
   "metadata": {},
   "source": [
    "## Author : \n",
    "Isaac Ramirez"
   ]
  }
 ],
 "metadata": {
  "kernelspec": {
   "display_name": "Python 3 (ipykernel)",
   "language": "python",
   "name": "python3"
  },
  "language_info": {
   "codemirror_mode": {
    "name": "ipython",
    "version": 3
   },
   "file_extension": ".py",
   "mimetype": "text/x-python",
   "name": "python",
   "nbconvert_exporter": "python",
   "pygments_lexer": "ipython3",
   "version": "3.12.1"
  }
 },
 "nbformat": 4,
 "nbformat_minor": 5
}
